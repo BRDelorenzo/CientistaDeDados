{
 "cells": [
  {
   "cell_type": "code",
   "execution_count": 1,
   "metadata": {},
   "outputs": [],
   "source": [
    "import pandas as pd\n",
    "import seaborn as srn\n",
    "import statistics  as sts"
   ]
  },
  {
   "cell_type": "code",
   "execution_count": 7,
   "metadata": {},
   "outputs": [],
   "source": [
    "df = pd.read_csv('tempo.csv',sep=';',encoding='latin-1')"
   ]
  },
  {
   "cell_type": "code",
   "execution_count": 12,
   "metadata": {},
   "outputs": [],
   "source": [
    "df.columns = ['Aparencia','Temperatura','Umidade','Vento','Jogar']"
   ]
  },
  {
   "cell_type": "code",
   "execution_count": 14,
   "metadata": {},
   "outputs": [
    {
     "data": {
      "text/html": [
       "<div>\n",
       "<style scoped>\n",
       "    .dataframe tbody tr th:only-of-type {\n",
       "        vertical-align: middle;\n",
       "    }\n",
       "\n",
       "    .dataframe tbody tr th {\n",
       "        vertical-align: top;\n",
       "    }\n",
       "\n",
       "    .dataframe thead th {\n",
       "        text-align: right;\n",
       "    }\n",
       "</style>\n",
       "<table border=\"1\" class=\"dataframe\">\n",
       "  <thead>\n",
       "    <tr style=\"text-align: right;\">\n",
       "      <th></th>\n",
       "      <th>Aparencia</th>\n",
       "      <th>Temperatura</th>\n",
       "      <th>Umidade</th>\n",
       "      <th>Vento</th>\n",
       "      <th>Jogar</th>\n",
       "    </tr>\n",
       "  </thead>\n",
       "  <tbody>\n",
       "    <tr>\n",
       "      <th>0</th>\n",
       "      <td>sol</td>\n",
       "      <td>85</td>\n",
       "      <td>85.0</td>\n",
       "      <td>FALSO</td>\n",
       "      <td>nao</td>\n",
       "    </tr>\n",
       "    <tr>\n",
       "      <th>1</th>\n",
       "      <td>sol</td>\n",
       "      <td>80</td>\n",
       "      <td>90.0</td>\n",
       "      <td>VERDADEIRO</td>\n",
       "      <td>nao</td>\n",
       "    </tr>\n",
       "    <tr>\n",
       "      <th>2</th>\n",
       "      <td>nublado</td>\n",
       "      <td>83</td>\n",
       "      <td>86.0</td>\n",
       "      <td>FALSO</td>\n",
       "      <td>sim</td>\n",
       "    </tr>\n",
       "    <tr>\n",
       "      <th>3</th>\n",
       "      <td>chuva</td>\n",
       "      <td>70</td>\n",
       "      <td>NaN</td>\n",
       "      <td>FALSO</td>\n",
       "      <td>sim</td>\n",
       "    </tr>\n",
       "    <tr>\n",
       "      <th>4</th>\n",
       "      <td>chuva</td>\n",
       "      <td>68</td>\n",
       "      <td>80.0</td>\n",
       "      <td>FALSO</td>\n",
       "      <td>sim</td>\n",
       "    </tr>\n",
       "  </tbody>\n",
       "</table>\n",
       "</div>"
      ],
      "text/plain": [
       "  Aparencia  Temperatura  Umidade       Vento Jogar\n",
       "0       sol           85     85.0       FALSO   nao\n",
       "1       sol           80     90.0  VERDADEIRO   nao\n",
       "2   nublado           83     86.0       FALSO   sim\n",
       "3     chuva           70      NaN       FALSO   sim\n",
       "4     chuva           68     80.0       FALSO   sim"
      ]
     },
     "execution_count": 14,
     "metadata": {},
     "output_type": "execute_result"
    }
   ],
   "source": [
    "df.head()"
   ]
  },
  {
   "cell_type": "code",
   "execution_count": 15,
   "metadata": {},
   "outputs": [
    {
     "data": {
      "text/plain": [
       "Aparencia      0\n",
       "Temperatura    0\n",
       "Umidade        1\n",
       "Vento          1\n",
       "Jogar          0\n",
       "dtype: int64"
      ]
     },
     "execution_count": 15,
     "metadata": {},
     "output_type": "execute_result"
    }
   ],
   "source": [
    "df.isna().sum()"
   ]
  },
  {
   "cell_type": "code",
   "execution_count": 18,
   "metadata": {},
   "outputs": [
    {
     "data": {
      "text/plain": [
       "85.5"
      ]
     },
     "execution_count": 18,
     "metadata": {},
     "output_type": "execute_result"
    }
   ],
   "source": [
    "df['Umidade'].describe()\n",
    "\n",
    "mediana = sts.median(df['Umidade'])\n",
    "mediana"
   ]
  },
  {
   "cell_type": "code",
   "execution_count": 19,
   "metadata": {},
   "outputs": [],
   "source": [
    "df['Umidade'].fillna(mediana,inplace=True)"
   ]
  },
  {
   "cell_type": "code",
   "execution_count": 33,
   "metadata": {},
   "outputs": [],
   "source": [
    "df['Vento'].groupby(df['Vento']).count()\n",
    "\n",
    "df.loc[df['Vento'] == 7,'Vento'] = 'FALSO'"
   ]
  },
  {
   "cell_type": "code",
   "execution_count": 34,
   "metadata": {},
   "outputs": [
    {
     "data": {
      "text/plain": [
       "Vento\n",
       "FALSO         8\n",
       "VERDADEIRO    6\n",
       "Name: Vento, dtype: int64"
      ]
     },
     "execution_count": 34,
     "metadata": {},
     "output_type": "execute_result"
    }
   ],
   "source": [
    "df['Vento'].groupby(df['Vento']).count()"
   ]
  },
  {
   "cell_type": "code",
   "execution_count": 36,
   "metadata": {},
   "outputs": [
    {
     "data": {
      "text/html": [
       "<div>\n",
       "<style scoped>\n",
       "    .dataframe tbody tr th:only-of-type {\n",
       "        vertical-align: middle;\n",
       "    }\n",
       "\n",
       "    .dataframe tbody tr th {\n",
       "        vertical-align: top;\n",
       "    }\n",
       "\n",
       "    .dataframe thead th {\n",
       "        text-align: right;\n",
       "    }\n",
       "</style>\n",
       "<table border=\"1\" class=\"dataframe\">\n",
       "  <thead>\n",
       "    <tr style=\"text-align: right;\">\n",
       "      <th></th>\n",
       "      <th>Aparencia</th>\n",
       "      <th>Temperatura</th>\n",
       "      <th>Umidade</th>\n",
       "      <th>Vento</th>\n",
       "      <th>Jogar</th>\n",
       "    </tr>\n",
       "  </thead>\n",
       "  <tbody>\n",
       "    <tr>\n",
       "      <th>0</th>\n",
       "      <td>sol</td>\n",
       "      <td>85</td>\n",
       "      <td>85.0</td>\n",
       "      <td>FALSO</td>\n",
       "      <td>nao</td>\n",
       "    </tr>\n",
       "    <tr>\n",
       "      <th>1</th>\n",
       "      <td>sol</td>\n",
       "      <td>80</td>\n",
       "      <td>90.0</td>\n",
       "      <td>VERDADEIRO</td>\n",
       "      <td>nao</td>\n",
       "    </tr>\n",
       "    <tr>\n",
       "      <th>2</th>\n",
       "      <td>nublado</td>\n",
       "      <td>83</td>\n",
       "      <td>86.0</td>\n",
       "      <td>FALSO</td>\n",
       "      <td>sim</td>\n",
       "    </tr>\n",
       "    <tr>\n",
       "      <th>3</th>\n",
       "      <td>chuva</td>\n",
       "      <td>70</td>\n",
       "      <td>85.5</td>\n",
       "      <td>FALSO</td>\n",
       "      <td>sim</td>\n",
       "    </tr>\n",
       "    <tr>\n",
       "      <th>4</th>\n",
       "      <td>chuva</td>\n",
       "      <td>68</td>\n",
       "      <td>80.0</td>\n",
       "      <td>FALSO</td>\n",
       "      <td>sim</td>\n",
       "    </tr>\n",
       "    <tr>\n",
       "      <th>5</th>\n",
       "      <td>chuva</td>\n",
       "      <td>65</td>\n",
       "      <td>70.0</td>\n",
       "      <td>VERDADEIRO</td>\n",
       "      <td>nao</td>\n",
       "    </tr>\n",
       "    <tr>\n",
       "      <th>6</th>\n",
       "      <td>menos</td>\n",
       "      <td>64</td>\n",
       "      <td>65.0</td>\n",
       "      <td>VERDADEIRO</td>\n",
       "      <td>sim</td>\n",
       "    </tr>\n",
       "    <tr>\n",
       "      <th>7</th>\n",
       "      <td>sol</td>\n",
       "      <td>1220</td>\n",
       "      <td>95.0</td>\n",
       "      <td>FALSO</td>\n",
       "      <td>nao</td>\n",
       "    </tr>\n",
       "    <tr>\n",
       "      <th>8</th>\n",
       "      <td>sol</td>\n",
       "      <td>69</td>\n",
       "      <td>70.0</td>\n",
       "      <td>FALSO</td>\n",
       "      <td>sim</td>\n",
       "    </tr>\n",
       "    <tr>\n",
       "      <th>9</th>\n",
       "      <td>chuva</td>\n",
       "      <td>75</td>\n",
       "      <td>200.0</td>\n",
       "      <td>FALSO</td>\n",
       "      <td>sim</td>\n",
       "    </tr>\n",
       "    <tr>\n",
       "      <th>10</th>\n",
       "      <td>sol</td>\n",
       "      <td>75</td>\n",
       "      <td>70.0</td>\n",
       "      <td>VERDADEIRO</td>\n",
       "      <td>sim</td>\n",
       "    </tr>\n",
       "    <tr>\n",
       "      <th>11</th>\n",
       "      <td>nublado</td>\n",
       "      <td>72</td>\n",
       "      <td>90.0</td>\n",
       "      <td>VERDADEIRO</td>\n",
       "      <td>sim</td>\n",
       "    </tr>\n",
       "    <tr>\n",
       "      <th>12</th>\n",
       "      <td>nublado</td>\n",
       "      <td>81</td>\n",
       "      <td>75.0</td>\n",
       "      <td>FALSO</td>\n",
       "      <td>sim</td>\n",
       "    </tr>\n",
       "    <tr>\n",
       "      <th>13</th>\n",
       "      <td>chuva</td>\n",
       "      <td>71</td>\n",
       "      <td>91.0</td>\n",
       "      <td>VERDADEIRO</td>\n",
       "      <td>nao</td>\n",
       "    </tr>\n",
       "  </tbody>\n",
       "</table>\n",
       "</div>"
      ],
      "text/plain": [
       "   Aparencia  Temperatura  Umidade       Vento Jogar\n",
       "0        sol           85     85.0       FALSO   nao\n",
       "1        sol           80     90.0  VERDADEIRO   nao\n",
       "2    nublado           83     86.0       FALSO   sim\n",
       "3      chuva           70     85.5       FALSO   sim\n",
       "4      chuva           68     80.0       FALSO   sim\n",
       "5      chuva           65     70.0  VERDADEIRO   nao\n",
       "6      menos           64     65.0  VERDADEIRO   sim\n",
       "7        sol         1220     95.0       FALSO   nao\n",
       "8        sol           69     70.0       FALSO   sim\n",
       "9      chuva           75    200.0       FALSO   sim\n",
       "10       sol           75     70.0  VERDADEIRO   sim\n",
       "11   nublado           72     90.0  VERDADEIRO   sim\n",
       "12   nublado           81     75.0       FALSO   sim\n",
       "13     chuva           71     91.0  VERDADEIRO   nao"
      ]
     },
     "execution_count": 36,
     "metadata": {},
     "output_type": "execute_result"
    }
   ],
   "source": []
  }
 ],
 "metadata": {
  "kernelspec": {
   "display_name": "Python 3",
   "language": "python",
   "name": "python3"
  },
  "language_info": {
   "codemirror_mode": {
    "name": "ipython",
    "version": 3
   },
   "file_extension": ".py",
   "mimetype": "text/x-python",
   "name": "python",
   "nbconvert_exporter": "python",
   "pygments_lexer": "ipython3",
   "version": "3.11.3"
  },
  "orig_nbformat": 4
 },
 "nbformat": 4,
 "nbformat_minor": 2
}
