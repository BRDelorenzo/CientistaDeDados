{
 "cells": [
  {
   "cell_type": "code",
   "execution_count": null,
   "metadata": {},
   "outputs": [],
   "source": [
    "\n"
   ]
  },
  {
   "cell_type": "code",
   "execution_count": 32,
   "metadata": {},
   "outputs": [
    {
     "name": "stdout",
     "output_type": "stream",
     "text": [
      "Produto alho adicionado!\n",
      "Produto pimenta adicionado!\n",
      "A Quantidade  de unidade  de alho é 4\n",
      "A Quantidade  de unidade  de pimenta é 4\n"
     ]
    },
    {
     "data": {
      "text/plain": [
       "4"
      ]
     },
     "execution_count": 32,
     "metadata": {},
     "output_type": "execute_result"
    }
   ],
   "source": [
    "inicio = 1\n",
    "adiciona = 0\n",
    "produto = 0\n",
    "produtos = []\n",
    "qtd_caixa_produto = []\n",
    "unidades_caixa = []\n",
    "\n",
    "qtd_produto = int(input(\"Quantos produtos deseja adicionar? \"))\n",
    "while adiciona < qtd_produto:\n",
    "    produtos.append(input(f\"Qual o nome do produto {inicio}? \"))\n",
    "    #print(produtos)\n",
    "    print(f\"Produto {produtos[adiciona]} adicionado!\")\n",
    "    qtd_caixa_produto.append(int(input(f\"Quantas caixas de {produtos[adiciona]} deseja adicionar? \")))\n",
    "    unidades_caixa.append(int(input(f\"Quantas unidades de {produtos[adiciona]} possuem em cada caixa? \")))\n",
    "    adiciona += 1\n",
    "    inicio += 1\n",
    "    \n",
    "def calcula():\n",
    "    total = 0\n",
    "    for i in range(len(produtos)):\n",
    "        total = qtd_caixa_produto[i] * unidades_caixa[i]\n",
    "        print(f\"A Quantidade em unidades  de {produtos[i]} é {total}\")\n",
    "    return total\n",
    "calcula()"
   ]
  }
 ],
 "metadata": {
  "kernelspec": {
   "display_name": "Python 3",
   "language": "python",
   "name": "python3"
  },
  "language_info": {
   "codemirror_mode": {
    "name": "ipython",
    "version": 3
   },
   "file_extension": ".py",
   "mimetype": "text/x-python",
   "name": "python",
   "nbconvert_exporter": "python",
   "pygments_lexer": "ipython3",
   "version": "3.11.3"
  },
  "orig_nbformat": 4
 },
 "nbformat": 4,
 "nbformat_minor": 2
}
