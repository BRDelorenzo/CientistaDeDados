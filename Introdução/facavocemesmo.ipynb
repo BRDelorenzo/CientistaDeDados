{
 "cells": [
  {
   "cell_type": "code",
   "execution_count": 42,
   "metadata": {},
   "outputs": [
    {
     "data": {
      "text/plain": [
       "47"
      ]
     },
     "execution_count": 42,
     "metadata": {},
     "output_type": "execute_result"
    }
   ],
   "source": [
    "#1. Faça um programa que tenha uma função chamada amplitude. A função deve receber uma lista e imprimir a amplitude.\n",
    "#Crie também um código para testar sua função\n",
    "\n",
    "def amplitude (lista):\n",
    "    amplitude = max(lista) - min(lista)\n",
    "    return amplitude\n",
    "\n",
    "amplitude ([12, 23, 37, 41, 59])"
   ]
  },
  {
   "cell_type": "code",
   "execution_count": 43,
   "metadata": {},
   "outputs": [
    {
     "name": "stdout",
     "output_type": "stream",
     "text": [
      "G\n",
      "i\n",
      "o\n",
      "v\n",
      "a\n",
      "n\n",
      "n\n",
      "i\n"
     ]
    }
   ],
   "source": [
    "#2. Faça uma função que receba uma string e imprima esta string na forma vertical\n",
    "\n",
    "def vertical (texto):\n",
    "    for i in texto:\n",
    "        print(i)\n",
    "\n",
    "vertical(\"Giovanni\")"
   ]
  },
  {
   "cell_type": "code",
   "execution_count": 40,
   "metadata": {},
   "outputs": [
    {
     "name": "stdout",
     "output_type": "stream",
     "text": [
      "O Transporte nao será aceito devido ao sobre peso\n"
     ]
    }
   ],
   "source": [
    "#3. Crie um programa que leia o peso de uma carga em números inteiros. \n",
    "#Se o peso for até 10 kg, informe que o valor será de R$ 50,00. \n",
    "#Entre 11 e 20 kg, informe que o valor será de R$ 80. \n",
    "# Se for maior que  20 informe que o transporte não é aceito. Teste vários pesos.\n",
    "\n",
    "peso = int(input(\"Insira o peso da carga em quilos: \"))\n",
    "\n",
    "if peso <= 10:\n",
    "    print(\"O Valor será R$ 50,00\")\n",
    "elif peso >= 11 and peso <= 20:\n",
    "    print(\"R$ 80,00\")\n",
    "else:\n",
    "    print(\"O Transporte nao será aceito devido ao sobre peso\")\n",
    "\n",
    "\n"
   ]
  }
 ],
 "metadata": {
  "kernelspec": {
   "display_name": "Python 3",
   "language": "python",
   "name": "python3"
  },
  "language_info": {
   "codemirror_mode": {
    "name": "ipython",
    "version": 3
   },
   "file_extension": ".py",
   "mimetype": "text/x-python",
   "name": "python",
   "nbconvert_exporter": "python",
   "pygments_lexer": "ipython3",
   "version": "3.11.3"
  },
  "orig_nbformat": 4
 },
 "nbformat": 4,
 "nbformat_minor": 2
}
